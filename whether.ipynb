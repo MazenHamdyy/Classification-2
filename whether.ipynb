{
 "cells": [
  {
   "cell_type": "code",
   "execution_count": 140,
   "id": "84eb8f26",
   "metadata": {},
   "outputs": [],
   "source": [
    "import pandas as pd\n",
    "import numpy as np\n",
    "import seaborn as sns\n",
    "import matplotlib.pyplot as plt\n",
    "%matplotlib inline"
   ]
  },
  {
   "cell_type": "code",
   "execution_count": 141,
   "id": "67b25195",
   "metadata": {},
   "outputs": [],
   "source": [
    "data=pd.read_csv('weather.csv')"
   ]
  },
  {
   "cell_type": "code",
   "execution_count": 142,
   "id": "40e606ab",
   "metadata": {},
   "outputs": [
    {
     "data": {
      "text/html": [
       "<div>\n",
       "<style scoped>\n",
       "    .dataframe tbody tr th:only-of-type {\n",
       "        vertical-align: middle;\n",
       "    }\n",
       "\n",
       "    .dataframe tbody tr th {\n",
       "        vertical-align: top;\n",
       "    }\n",
       "\n",
       "    .dataframe thead th {\n",
       "        text-align: right;\n",
       "    }\n",
       "</style>\n",
       "<table border=\"1\" class=\"dataframe\">\n",
       "  <thead>\n",
       "    <tr style=\"text-align: right;\">\n",
       "      <th></th>\n",
       "      <th>Day</th>\n",
       "      <th>MinTemp</th>\n",
       "      <th>MaxTemp</th>\n",
       "      <th>Humidity9am</th>\n",
       "      <th>Pressure9am</th>\n",
       "      <th>Temp9am</th>\n",
       "      <th>Temp3pm</th>\n",
       "      <th>Humidity3pm</th>\n",
       "      <th>Pressure3pm</th>\n",
       "    </tr>\n",
       "  </thead>\n",
       "  <tbody>\n",
       "    <tr>\n",
       "      <th>0</th>\n",
       "      <td>1</td>\n",
       "      <td>8.0</td>\n",
       "      <td>24.3</td>\n",
       "      <td>68</td>\n",
       "      <td>1019.7</td>\n",
       "      <td>14.4</td>\n",
       "      <td>23.6</td>\n",
       "      <td>29</td>\n",
       "      <td>1015.0</td>\n",
       "    </tr>\n",
       "    <tr>\n",
       "      <th>1</th>\n",
       "      <td>2</td>\n",
       "      <td>14.0</td>\n",
       "      <td>26.9</td>\n",
       "      <td>80</td>\n",
       "      <td>1012.4</td>\n",
       "      <td>17.5</td>\n",
       "      <td>25.7</td>\n",
       "      <td>36</td>\n",
       "      <td>1008.4</td>\n",
       "    </tr>\n",
       "    <tr>\n",
       "      <th>2</th>\n",
       "      <td>3</td>\n",
       "      <td>13.7</td>\n",
       "      <td>23.4</td>\n",
       "      <td>82</td>\n",
       "      <td>1009.5</td>\n",
       "      <td>15.4</td>\n",
       "      <td>20.2</td>\n",
       "      <td>69</td>\n",
       "      <td>1007.2</td>\n",
       "    </tr>\n",
       "    <tr>\n",
       "      <th>3</th>\n",
       "      <td>4</td>\n",
       "      <td>13.3</td>\n",
       "      <td>15.5</td>\n",
       "      <td>62</td>\n",
       "      <td>1005.5</td>\n",
       "      <td>13.5</td>\n",
       "      <td>14.1</td>\n",
       "      <td>56</td>\n",
       "      <td>1007.0</td>\n",
       "    </tr>\n",
       "    <tr>\n",
       "      <th>4</th>\n",
       "      <td>5</td>\n",
       "      <td>7.6</td>\n",
       "      <td>16.1</td>\n",
       "      <td>68</td>\n",
       "      <td>1018.3</td>\n",
       "      <td>11.1</td>\n",
       "      <td>15.4</td>\n",
       "      <td>49</td>\n",
       "      <td>1018.5</td>\n",
       "    </tr>\n",
       "  </tbody>\n",
       "</table>\n",
       "</div>"
      ],
      "text/plain": [
       "   Day  MinTemp  MaxTemp  Humidity9am  Pressure9am  Temp9am  Temp3pm  \\\n",
       "0    1      8.0     24.3           68       1019.7     14.4     23.6   \n",
       "1    2     14.0     26.9           80       1012.4     17.5     25.7   \n",
       "2    3     13.7     23.4           82       1009.5     15.4     20.2   \n",
       "3    4     13.3     15.5           62       1005.5     13.5     14.1   \n",
       "4    5      7.6     16.1           68       1018.3     11.1     15.4   \n",
       "\n",
       "   Humidity3pm  Pressure3pm  \n",
       "0           29       1015.0  \n",
       "1           36       1008.4  \n",
       "2           69       1007.2  \n",
       "3           56       1007.0  \n",
       "4           49       1018.5  "
      ]
     },
     "execution_count": 142,
     "metadata": {},
     "output_type": "execute_result"
    }
   ],
   "source": [
    "data.head()"
   ]
  },
  {
   "cell_type": "code",
   "execution_count": 143,
   "id": "a3424a86",
   "metadata": {},
   "outputs": [
    {
     "data": {
      "text/html": [
       "<div>\n",
       "<style scoped>\n",
       "    .dataframe tbody tr th:only-of-type {\n",
       "        vertical-align: middle;\n",
       "    }\n",
       "\n",
       "    .dataframe tbody tr th {\n",
       "        vertical-align: top;\n",
       "    }\n",
       "\n",
       "    .dataframe thead th {\n",
       "        text-align: right;\n",
       "    }\n",
       "</style>\n",
       "<table border=\"1\" class=\"dataframe\">\n",
       "  <thead>\n",
       "    <tr style=\"text-align: right;\">\n",
       "      <th></th>\n",
       "      <th>Day</th>\n",
       "      <th>MinTemp</th>\n",
       "      <th>MaxTemp</th>\n",
       "      <th>Humidity9am</th>\n",
       "      <th>Pressure9am</th>\n",
       "      <th>Temp9am</th>\n",
       "      <th>Temp3pm</th>\n",
       "      <th>Humidity3pm</th>\n",
       "      <th>Pressure3pm</th>\n",
       "    </tr>\n",
       "  </thead>\n",
       "  <tbody>\n",
       "    <tr>\n",
       "      <th>Day</th>\n",
       "      <td>1.000000</td>\n",
       "      <td>-0.655682</td>\n",
       "      <td>-0.540103</td>\n",
       "      <td>-0.029452</td>\n",
       "      <td>0.326285</td>\n",
       "      <td>-0.583006</td>\n",
       "      <td>-0.521359</td>\n",
       "      <td>-0.042443</td>\n",
       "      <td>0.319532</td>\n",
       "    </tr>\n",
       "    <tr>\n",
       "      <th>MinTemp</th>\n",
       "      <td>-0.655682</td>\n",
       "      <td>1.000000</td>\n",
       "      <td>0.752471</td>\n",
       "      <td>-0.207897</td>\n",
       "      <td>-0.501707</td>\n",
       "      <td>0.916745</td>\n",
       "      <td>0.722730</td>\n",
       "      <td>-0.040709</td>\n",
       "      <td>-0.498007</td>\n",
       "    </tr>\n",
       "    <tr>\n",
       "      <th>MaxTemp</th>\n",
       "      <td>-0.540103</td>\n",
       "      <td>0.752471</td>\n",
       "      <td>1.000000</td>\n",
       "      <td>-0.359602</td>\n",
       "      <td>-0.290883</td>\n",
       "      <td>0.870604</td>\n",
       "      <td>0.989261</td>\n",
       "      <td>-0.533327</td>\n",
       "      <td>-0.379394</td>\n",
       "    </tr>\n",
       "    <tr>\n",
       "      <th>Humidity9am</th>\n",
       "      <td>-0.029452</td>\n",
       "      <td>-0.207897</td>\n",
       "      <td>-0.359602</td>\n",
       "      <td>1.000000</td>\n",
       "      <td>0.135727</td>\n",
       "      <td>-0.436551</td>\n",
       "      <td>-0.355119</td>\n",
       "      <td>0.546718</td>\n",
       "      <td>0.134420</td>\n",
       "    </tr>\n",
       "    <tr>\n",
       "      <th>Pressure9am</th>\n",
       "      <td>0.326285</td>\n",
       "      <td>-0.501707</td>\n",
       "      <td>-0.290883</td>\n",
       "      <td>0.135727</td>\n",
       "      <td>1.000000</td>\n",
       "      <td>-0.460418</td>\n",
       "      <td>-0.253674</td>\n",
       "      <td>-0.087946</td>\n",
       "      <td>0.967895</td>\n",
       "    </tr>\n",
       "    <tr>\n",
       "      <th>Temp9am</th>\n",
       "      <td>-0.583006</td>\n",
       "      <td>0.916745</td>\n",
       "      <td>0.870604</td>\n",
       "      <td>-0.436551</td>\n",
       "      <td>-0.460418</td>\n",
       "      <td>1.000000</td>\n",
       "      <td>0.844406</td>\n",
       "      <td>-0.255681</td>\n",
       "      <td>-0.492636</td>\n",
       "    </tr>\n",
       "    <tr>\n",
       "      <th>Temp3pm</th>\n",
       "      <td>-0.521359</td>\n",
       "      <td>0.722730</td>\n",
       "      <td>0.989261</td>\n",
       "      <td>-0.355119</td>\n",
       "      <td>-0.253674</td>\n",
       "      <td>0.844406</td>\n",
       "      <td>1.000000</td>\n",
       "      <td>-0.581676</td>\n",
       "      <td>-0.345485</td>\n",
       "    </tr>\n",
       "    <tr>\n",
       "      <th>Humidity3pm</th>\n",
       "      <td>-0.042443</td>\n",
       "      <td>-0.040709</td>\n",
       "      <td>-0.533327</td>\n",
       "      <td>0.546718</td>\n",
       "      <td>-0.087946</td>\n",
       "      <td>-0.255681</td>\n",
       "      <td>-0.581676</td>\n",
       "      <td>1.000000</td>\n",
       "      <td>-0.010052</td>\n",
       "    </tr>\n",
       "    <tr>\n",
       "      <th>Pressure3pm</th>\n",
       "      <td>0.319532</td>\n",
       "      <td>-0.498007</td>\n",
       "      <td>-0.379394</td>\n",
       "      <td>0.134420</td>\n",
       "      <td>0.967895</td>\n",
       "      <td>-0.492636</td>\n",
       "      <td>-0.345485</td>\n",
       "      <td>-0.010052</td>\n",
       "      <td>1.000000</td>\n",
       "    </tr>\n",
       "  </tbody>\n",
       "</table>\n",
       "</div>"
      ],
      "text/plain": [
       "                  Day   MinTemp   MaxTemp  Humidity9am  Pressure9am   Temp9am  \\\n",
       "Day          1.000000 -0.655682 -0.540103    -0.029452     0.326285 -0.583006   \n",
       "MinTemp     -0.655682  1.000000  0.752471    -0.207897    -0.501707  0.916745   \n",
       "MaxTemp     -0.540103  0.752471  1.000000    -0.359602    -0.290883  0.870604   \n",
       "Humidity9am -0.029452 -0.207897 -0.359602     1.000000     0.135727 -0.436551   \n",
       "Pressure9am  0.326285 -0.501707 -0.290883     0.135727     1.000000 -0.460418   \n",
       "Temp9am     -0.583006  0.916745  0.870604    -0.436551    -0.460418  1.000000   \n",
       "Temp3pm     -0.521359  0.722730  0.989261    -0.355119    -0.253674  0.844406   \n",
       "Humidity3pm -0.042443 -0.040709 -0.533327     0.546718    -0.087946 -0.255681   \n",
       "Pressure3pm  0.319532 -0.498007 -0.379394     0.134420     0.967895 -0.492636   \n",
       "\n",
       "              Temp3pm  Humidity3pm  Pressure3pm  \n",
       "Day         -0.521359    -0.042443     0.319532  \n",
       "MinTemp      0.722730    -0.040709    -0.498007  \n",
       "MaxTemp      0.989261    -0.533327    -0.379394  \n",
       "Humidity9am -0.355119     0.546718     0.134420  \n",
       "Pressure9am -0.253674    -0.087946     0.967895  \n",
       "Temp9am      0.844406    -0.255681    -0.492636  \n",
       "Temp3pm      1.000000    -0.581676    -0.345485  \n",
       "Humidity3pm -0.581676     1.000000    -0.010052  \n",
       "Pressure3pm -0.345485    -0.010052     1.000000  "
      ]
     },
     "execution_count": 143,
     "metadata": {},
     "output_type": "execute_result"
    }
   ],
   "source": [
    "data.corr()"
   ]
  },
  {
   "cell_type": "code",
   "execution_count": 144,
   "id": "b6813023",
   "metadata": {},
   "outputs": [
    {
     "data": {
      "text/plain": [
       "Text(0, 0.5, 'Humidity3pm')"
      ]
     },
     "execution_count": 144,
     "metadata": {},
     "output_type": "execute_result"
    },
    {
     "data": {
      "image/png": "[encoded data removed]",
      "text/plain": [
       "<Figure size 640x480 with 1 Axes>"
      ]
     },
     "metadata": {},
     "output_type": "display_data"
    }
   ],
   "source": [
    "plt.scatter(data['Humidity9am'],data['Humidity3pm'])\n",
    "plt.xlabel(\"Humidity9am\")\n",
    "plt.ylabel(\"Humidity3pm\")\n"
   ]
  },
  {
   "cell_type": "code",
   "execution_count": 145,
   "id": "f3f5f670",
   "metadata": {},
   "outputs": [
    {
     "data": {
      "text/plain": [
       "Text(0, 0.5, 'Pressure3pm')"
      ]
     },
     "execution_count": 145,
     "metadata": {},
     "output_type": "execute_result"
    },
    {
     "data": {
      "image/png": "[encoded data removed]",
      "text/plain": [
       "<Figure size 640x480 with 1 Axes>"
      ]
     },
     "metadata": {},
     "output_type": "display_data"
    }
   ],
   "source": [
    "plt.scatter(data['Pressure9am'],data['Pressure3pm'])\n",
    "plt.xlabel(\"Pressure9am\")\n",
    "plt.ylabel(\"Pressure3pm\")"
   ]
  },
  {
   "cell_type": "code",
   "execution_count": 146,
   "id": "ef9f11cf",
   "metadata": {},
   "outputs": [
    {
     "data": {
      "text/plain": [
       "Text(0, 0.5, 'Temp3pm')"
      ]
     },
     "execution_count": 146,
     "metadata": {},
     "output_type": "execute_result"
    },
    {
     "data": {
      "image/png": "[encoded data removed]",
      "text/plain": [
       "<Figure size 640x480 with 1 Axes>"
      ]
     },
     "metadata": {},
     "output_type": "display_data"
    }
   ],
   "source": [
    "plt.scatter(data['Temp9am'],data['Temp3pm'])\n",
    "plt.xlabel(\"Temp9am\")\n",
    "plt.ylabel(\"Temp3pm\")"
   ]
  },
  {
   "cell_type": "code",
   "execution_count": 147,
   "id": "05da8574",
   "metadata": {},
   "outputs": [],
   "source": [
    "XP=data['Pressure9am']"
   ]
  },
  {
   "cell_type": "code",
   "execution_count": 148,
   "id": "29787f0a",
   "metadata": {},
   "outputs": [
    {
     "data": {
      "text/plain": [
       "0      1019.7\n",
       "1      1012.4\n",
       "2      1009.5\n",
       "3      1005.5\n",
       "4      1018.3\n",
       "        ...  \n",
       "361    1016.1\n",
       "362    1020.0\n",
       "363    1024.0\n",
       "364    1021.0\n",
       "365    1009.6\n",
       "Name: Pressure9am, Length: 366, dtype: float64"
      ]
     },
     "execution_count": 148,
     "metadata": {},
     "output_type": "execute_result"
    }
   ],
   "source": [
    "XP"
   ]
  },
  {
   "cell_type": "code",
   "execution_count": 149,
   "id": "82253ea0",
   "metadata": {},
   "outputs": [],
   "source": [
    "YP=data['Pressure3pm']"
   ]
  },
  {
   "cell_type": "code",
   "execution_count": 150,
   "id": "ad69f57e",
   "metadata": {},
   "outputs": [
    {
     "data": {
      "text/plain": [
       "0      1015.0\n",
       "1      1008.4\n",
       "2      1007.2\n",
       "3      1007.0\n",
       "4      1018.5\n",
       "        ...  \n",
       "361    1010.8\n",
       "362    1016.9\n",
       "363    1022.8\n",
       "364    1016.2\n",
       "365    1009.2\n",
       "Name: Pressure3pm, Length: 366, dtype: float64"
      ]
     },
     "execution_count": 150,
     "metadata": {},
     "output_type": "execute_result"
    }
   ],
   "source": [
    "YP"
   ]
  },
  {
   "cell_type": "code",
   "execution_count": 151,
   "id": "7dd70c24",
   "metadata": {},
   "outputs": [],
   "source": [
    "from sklearn.model_selection import train_test_split\n",
    "X_train,X_test,y_train,y_test=train_test_split(XP,YP,test_size=0.2,random_state=42)\n",
    "X_test=X_test.values.reshape(-1,1)\n",
    "X_train=X_train.values.reshape(-1,1)\n",
    "y_test=y_test.values.reshape(-1,1)\n",
    "y_train=y_train.values.reshape(-1,1)"
   ]
  },
  {
   "cell_type": "code",
   "execution_count": 152,
   "id": "21c7f17e",
   "metadata": {},
   "outputs": [
    {
     "data": {
      "text/plain": [
       "array([[1013.3],\n",
       "       [1022.9],\n",
       "       [1009. ],\n",
       "       [1018.1],\n",
       "       [1017.5],\n",
       "       [1009.8],\n",
       "       [1003.3],\n",
       "       [1016.8],\n",
       "       [1024.2],\n",
       "       [1002.3],\n",
       "       [1014.3],\n",
       "       [1010.9],\n",
       "       [1027.7],\n",
       "       [1021.9],\n",
       "       [1022.9],\n",
       "       [1012.8],\n",
       "       [1015.6],\n",
       "       [1015.6],\n",
       "       [1019.1],\n",
       "       [1014.9],\n",
       "       [1017.6],\n",
       "       [1024.3],\n",
       "       [1009.4],\n",
       "       [1013. ],\n",
       "       [1015. ],\n",
       "       [1018.6],\n",
       "       [1005.9],\n",
       "       [1022.1],\n",
       "       [1022.8],\n",
       "       [1017.8],\n",
       "       [1018.7],\n",
       "       [1024. ],\n",
       "       [1025.5],\n",
       "       [1010.8],\n",
       "       [1024.7],\n",
       "       [1026.9],\n",
       "       [1015.3],\n",
       "       [1019.7],\n",
       "       [1024.1],\n",
       "       [1013.7],\n",
       "       [1012.6],\n",
       "       [1006. ],\n",
       "       [1019.2],\n",
       "       [1013.3],\n",
       "       [1015.9],\n",
       "       [1011. ],\n",
       "       [1019. ],\n",
       "       [1009.1],\n",
       "       [1009.5],\n",
       "       [1011.5],\n",
       "       [1020.1],\n",
       "       [1020.5],\n",
       "       [1011.7],\n",
       "       [1025.5],\n",
       "       [1010.5],\n",
       "       [1021. ],\n",
       "       [1023.5],\n",
       "       [1015. ],\n",
       "       [1009.1],\n",
       "       [1006.5],\n",
       "       [1022.2],\n",
       "       [1011.4],\n",
       "       [1022.7],\n",
       "       [1021.1],\n",
       "       [1023.3],\n",
       "       [1006.8],\n",
       "       [1012.1],\n",
       "       [1019.6],\n",
       "       [1022.3],\n",
       "       [1018.5],\n",
       "       [1014.1],\n",
       "       [1028.9],\n",
       "       [1024.4],\n",
       "       [1008.3],\n",
       "       [1017.1],\n",
       "       [1015.9],\n",
       "       [1021.9],\n",
       "       [1007.8],\n",
       "       [1019.3],\n",
       "       [1019.2],\n",
       "       [ 997.5],\n",
       "       [1020.3],\n",
       "       [1013.4],\n",
       "       [1019.2],\n",
       "       [1011.4],\n",
       "       [1015.4],\n",
       "       [1023.2],\n",
       "       [1009.5],\n",
       "       [1015.8],\n",
       "       [1018.2],\n",
       "       [1021.8],\n",
       "       [1023.8],\n",
       "       [1022.2],\n",
       "       [1008.4],\n",
       "       [1018.2],\n",
       "       [1012.4],\n",
       "       [1019.7],\n",
       "       [1018.5],\n",
       "       [1023.5],\n",
       "       [1019.8],\n",
       "       [1018.3],\n",
       "       [1006.7],\n",
       "       [1006.5],\n",
       "       [1022.1],\n",
       "       [1020.8],\n",
       "       [1023.1],\n",
       "       [1008.5],\n",
       "       [1019.9],\n",
       "       [1025. ],\n",
       "       [1021.4],\n",
       "       [1008.4],\n",
       "       [1008.1],\n",
       "       [1020.4],\n",
       "       [1026.3],\n",
       "       [1014.4],\n",
       "       [1011.8],\n",
       "       [1022.2],\n",
       "       [1017.9],\n",
       "       [1016.4],\n",
       "       [1013.8],\n",
       "       [1027. ],\n",
       "       [1019.6],\n",
       "       [1012.7],\n",
       "       [1013.7],\n",
       "       [1005.3],\n",
       "       [1007.2],\n",
       "       [1007.2],\n",
       "       [1014. ],\n",
       "       [1021.1],\n",
       "       [1012.4],\n",
       "       [1014.5],\n",
       "       [1019.1],\n",
       "       [1029.6],\n",
       "       [1017.6],\n",
       "       [1017.7],\n",
       "       [1012.3],\n",
       "       [1025.5],\n",
       "       [1013.3],\n",
       "       [1019.2],\n",
       "       [1017.5],\n",
       "       [1020. ],\n",
       "       [1011.8],\n",
       "       [1022.1],\n",
       "       [1017.7],\n",
       "       [1017.4],\n",
       "       [1027.4],\n",
       "       [1010.2],\n",
       "       [1014.1],\n",
       "       [1007.4],\n",
       "       [1014.6],\n",
       "       [1016.9],\n",
       "       [1015.8],\n",
       "       [1013.3],\n",
       "       [1025.4],\n",
       "       [1017.1],\n",
       "       [1016.1],\n",
       "       [1017.1],\n",
       "       [1027.4],\n",
       "       [1021.8],\n",
       "       [1026. ],\n",
       "       [1009.3],\n",
       "       [1024.8],\n",
       "       [1027.9],\n",
       "       [1019.3],\n",
       "       [1006. ],\n",
       "       [ 996.8],\n",
       "       [1001.3],\n",
       "       [1011.5],\n",
       "       [1022. ],\n",
       "       [ 997.7],\n",
       "       [1024.8],\n",
       "       [1020.4],\n",
       "       [1019.6],\n",
       "       [1014.6],\n",
       "       [1016.6],\n",
       "       [1021.8],\n",
       "       [1020.7],\n",
       "       [1018.6],\n",
       "       [1018.4],\n",
       "       [1019.3],\n",
       "       [1030. ],\n",
       "       [1010.4],\n",
       "       [1018.5],\n",
       "       [1019. ],\n",
       "       [1017.8],\n",
       "       [1006.8],\n",
       "       [1025.6],\n",
       "       [1017.5],\n",
       "       [1028.9],\n",
       "       [1024.2],\n",
       "       [ 998.9],\n",
       "       [1027.2],\n",
       "       [1011.6],\n",
       "       [1018.3],\n",
       "       [1004.6],\n",
       "       [1020.9],\n",
       "       [1014.3],\n",
       "       [1015.1],\n",
       "       [1014.8],\n",
       "       [1022.4],\n",
       "       [1023.5],\n",
       "       [1009.4],\n",
       "       [1016.9],\n",
       "       [1013.9],\n",
       "       [1018.8],\n",
       "       [1008.7],\n",
       "       [1019.3],\n",
       "       [1020.7],\n",
       "       [1022.7],\n",
       "       [1013. ],\n",
       "       [1013.7],\n",
       "       [1022.3],\n",
       "       [1017.4],\n",
       "       [1015.4],\n",
       "       [1028. ],\n",
       "       [1025.7],\n",
       "       [1017.6],\n",
       "       [1010.9],\n",
       "       [1024.2],\n",
       "       [1023.1],\n",
       "       [1027.4],\n",
       "       [1016.8],\n",
       "       [1013.9],\n",
       "       [1016.8],\n",
       "       [1023.1],\n",
       "       [1017. ],\n",
       "       [1010. ],\n",
       "       [1018.6],\n",
       "       [1019.2],\n",
       "       [1012.5],\n",
       "       [1023.4],\n",
       "       [1020.3],\n",
       "       [1013.9],\n",
       "       [1015.1],\n",
       "       [1009.7],\n",
       "       [1008.4],\n",
       "       [1014.1],\n",
       "       [1004. ],\n",
       "       [1023.5],\n",
       "       [1015.3],\n",
       "       [1010.3],\n",
       "       [1012.8],\n",
       "       [1009.1],\n",
       "       [1025.8],\n",
       "       [1020.9],\n",
       "       [1013.1],\n",
       "       [1013.9],\n",
       "       [1012. ],\n",
       "       [1012.9],\n",
       "       [1023.9],\n",
       "       [1014.6],\n",
       "       [1019.1],\n",
       "       [1024.8],\n",
       "       [1020.7],\n",
       "       [1001.5],\n",
       "       [1012.3],\n",
       "       [1019.1],\n",
       "       [1008.3],\n",
       "       [1022.2],\n",
       "       [1018.9],\n",
       "       [1022.8],\n",
       "       [1013.8],\n",
       "       [1024.1],\n",
       "       [1014.2],\n",
       "       [1015.6],\n",
       "       [1022.1],\n",
       "       [1010.5],\n",
       "       [1008.9],\n",
       "       [1020.9],\n",
       "       [1021.8],\n",
       "       [1018.1],\n",
       "       [1020. ],\n",
       "       [1024.4],\n",
       "       [1024.2],\n",
       "       [1020.1],\n",
       "       [1031.9],\n",
       "       [1011.3],\n",
       "       [1020.4],\n",
       "       [1013. ],\n",
       "       [1005. ],\n",
       "       [1009.5],\n",
       "       [1020.6],\n",
       "       [1027.1],\n",
       "       [1019.3],\n",
       "       [1009.2],\n",
       "       [1006.5],\n",
       "       [1013.5],\n",
       "       [1006.5],\n",
       "       [1016.7],\n",
       "       [1014.9],\n",
       "       [1016.7],\n",
       "       [1011.7]])"
      ]
     },
     "execution_count": 152,
     "metadata": {},
     "output_type": "execute_result"
    }
   ],
   "source": [
    "y_train"
   ]
  },
  {
   "cell_type": "code",
   "execution_count": 153,
   "id": "d50e2e9f",
   "metadata": {},
   "outputs": [
    {
     "data": {
      "text/plain": [
       "array([[1016.8],\n",
       "       [1024.5],\n",
       "       [1014.2],\n",
       "       [1021.3],\n",
       "       [1021.4],\n",
       "       [1014.4],\n",
       "       [1006.6],\n",
       "       [1020.9],\n",
       "       [1026.2],\n",
       "       [1008.3],\n",
       "       [1016.4],\n",
       "       [1012.5],\n",
       "       [1030.5],\n",
       "       [1024.4],\n",
       "       [1027.6],\n",
       "       [1017.6],\n",
       "       [1021. ],\n",
       "       [1019.2],\n",
       "       [1021.2],\n",
       "       [1016.7],\n",
       "       [1021.6],\n",
       "       [1027.8],\n",
       "       [1013.8],\n",
       "       [1016.4],\n",
       "       [1017.4],\n",
       "       [1022.4],\n",
       "       [1006.3],\n",
       "       [1026.7],\n",
       "       [1026.6],\n",
       "       [1021.4],\n",
       "       [1022.1],\n",
       "       [1027.8],\n",
       "       [1028.6],\n",
       "       [1016.1],\n",
       "       [1027.2],\n",
       "       [1032.2],\n",
       "       [1020. ],\n",
       "       [1022.5],\n",
       "       [1028. ],\n",
       "       [1018.5],\n",
       "       [1014.8],\n",
       "       [1008.7],\n",
       "       [1021.2],\n",
       "       [1017.1],\n",
       "       [1018.4],\n",
       "       [1010. ],\n",
       "       [1022.4],\n",
       "       [1013.6],\n",
       "       [1013.9],\n",
       "       [1014.5],\n",
       "       [1021.3],\n",
       "       [1024.2],\n",
       "       [1016.4],\n",
       "       [1027.7],\n",
       "       [1018. ],\n",
       "       [1024.8],\n",
       "       [1025.8],\n",
       "       [1017.4],\n",
       "       [1012.2],\n",
       "       [1010.2],\n",
       "       [1024.6],\n",
       "       [1015.3],\n",
       "       [1027.1],\n",
       "       [1024.4],\n",
       "       [1027.2],\n",
       "       [1010.8],\n",
       "       [1011.4],\n",
       "       [1020.6],\n",
       "       [1025.7],\n",
       "       [1020.6],\n",
       "       [1013.7],\n",
       "       [1032.9],\n",
       "       [1027.9],\n",
       "       [1008.4],\n",
       "       [1018.9],\n",
       "       [1018.5],\n",
       "       [1024.3],\n",
       "       [1010. ],\n",
       "       [1023.2],\n",
       "       [1020.8],\n",
       "       [1002.1],\n",
       "       [1023.9],\n",
       "       [1015.7],\n",
       "       [1020.7],\n",
       "       [1014.8],\n",
       "       [1018.7],\n",
       "       [1026.3],\n",
       "       [1012.3],\n",
       "       [1019.2],\n",
       "       [1022.2],\n",
       "       [1025.2],\n",
       "       [1027.8],\n",
       "       [1025.5],\n",
       "       [1007.9],\n",
       "       [1020.6],\n",
       "       [1016.5],\n",
       "       [1022.3],\n",
       "       [1022.7],\n",
       "       [1027.3],\n",
       "       [1023.7],\n",
       "       [1020.9],\n",
       "       [1011.9],\n",
       "       [1012.1],\n",
       "       [1025.2],\n",
       "       [1024.1],\n",
       "       [1024.8],\n",
       "       [1010.8],\n",
       "       [1023.8],\n",
       "       [1027.8],\n",
       "       [1024.7],\n",
       "       [1011.8],\n",
       "       [1006.3],\n",
       "       [1018.7],\n",
       "       [1029. ],\n",
       "       [1017.6],\n",
       "       [1016.3],\n",
       "       [1025.7],\n",
       "       [1022.8],\n",
       "       [1022.8],\n",
       "       [1018.4],\n",
       "       [1027.6],\n",
       "       [1021.6],\n",
       "       [1010.3],\n",
       "       [1017.7],\n",
       "       [1009.5],\n",
       "       [1009.5],\n",
       "       [1007.9],\n",
       "       [1013.5],\n",
       "       [1024.4],\n",
       "       [1014.7],\n",
       "       [1015.5],\n",
       "       [1019.8],\n",
       "       [1032.1],\n",
       "       [1017. ],\n",
       "       [1021.6],\n",
       "       [1012.3],\n",
       "       [1025.9],\n",
       "       [1017.2],\n",
       "       [1021.6],\n",
       "       [1023.7],\n",
       "       [1022.9],\n",
       "       [1012.7],\n",
       "       [1022.9],\n",
       "       [1020.9],\n",
       "       [1020.8],\n",
       "       [1032.2],\n",
       "       [1012.6],\n",
       "       [1017.7],\n",
       "       [1011.8],\n",
       "       [1018.3],\n",
       "       [1020.1],\n",
       "       [1019.8],\n",
       "       [1017.8],\n",
       "       [1028.2],\n",
       "       [1022. ],\n",
       "       [1018.8],\n",
       "       [1019. ],\n",
       "       [1029.5],\n",
       "       [1023.6],\n",
       "       [1029.1],\n",
       "       [1011.2],\n",
       "       [1027.8],\n",
       "       [1031.4],\n",
       "       [1022.8],\n",
       "       [1007.3],\n",
       "       [ 996.5],\n",
       "       [1005.1],\n",
       "       [1014.4],\n",
       "       [1023.3],\n",
       "       [1003.2],\n",
       "       [1028.5],\n",
       "       [1025.4],\n",
       "       [1021.1],\n",
       "       [1017.4],\n",
       "       [1017.4],\n",
       "       [1025.5],\n",
       "       [1024.3],\n",
       "       [1021. ],\n",
       "       [1023.2],\n",
       "       [1017.4],\n",
       "       [1030.5],\n",
       "       [1011.2],\n",
       "       [1018.3],\n",
       "       [1021.8],\n",
       "       [1016.7],\n",
       "       [1007.7],\n",
       "       [1025.7],\n",
       "       [1019.1],\n",
       "       [1032.3],\n",
       "       [1028.2],\n",
       "       [ 999.4],\n",
       "       [1028.5],\n",
       "       [1015.8],\n",
       "       [1020.6],\n",
       "       [1007.9],\n",
       "       [1025.7],\n",
       "       [1017.8],\n",
       "       [1018.7],\n",
       "       [1019.2],\n",
       "       [1024.2],\n",
       "       [1026.7],\n",
       "       [1010.8],\n",
       "       [1021. ],\n",
       "       [1018.1],\n",
       "       [1022.7],\n",
       "       [1012.6],\n",
       "       [1022.5],\n",
       "       [1024.7],\n",
       "       [1026.1],\n",
       "       [1016.2],\n",
       "       [1018.2],\n",
       "       [1025.2],\n",
       "       [1018. ],\n",
       "       [1020.8],\n",
       "       [1031. ],\n",
       "       [1028.2],\n",
       "       [1018.2],\n",
       "       [1014.6],\n",
       "       [1028.2],\n",
       "       [1026.6],\n",
       "       [1030.2],\n",
       "       [1018.5],\n",
       "       [1015.2],\n",
       "       [1020. ],\n",
       "       [1023.4],\n",
       "       [1019.8],\n",
       "       [1013.8],\n",
       "       [1021.9],\n",
       "       [1023.1],\n",
       "       [1018.1],\n",
       "       [1025.9],\n",
       "       [1023.2],\n",
       "       [1019.7],\n",
       "       [1017.5],\n",
       "       [1012.8],\n",
       "       [1012.4],\n",
       "       [1015.8],\n",
       "       [1004.9],\n",
       "       [1026.7],\n",
       "       [1015. ],\n",
       "       [1006.9],\n",
       "       [1014.6],\n",
       "       [1009.5],\n",
       "       [1025.7],\n",
       "       [1024.6],\n",
       "       [1017.3],\n",
       "       [1018.8],\n",
       "       [1013.9],\n",
       "       [1017.3],\n",
       "       [1027.2],\n",
       "       [1018.8],\n",
       "       [1022.6],\n",
       "       [1027. ],\n",
       "       [1024.5],\n",
       "       [1009.1],\n",
       "       [1012.1],\n",
       "       [1020.4],\n",
       "       [1012.9],\n",
       "       [1025.5],\n",
       "       [1021.4],\n",
       "       [1024. ],\n",
       "       [1018. ],\n",
       "       [1027.3],\n",
       "       [1017.1],\n",
       "       [1018. ],\n",
       "       [1025.1],\n",
       "       [1014.6],\n",
       "       [1010.7],\n",
       "       [1025.8],\n",
       "       [1025.7],\n",
       "       [1021.2],\n",
       "       [1023.2],\n",
       "       [1027.3],\n",
       "       [1026.2],\n",
       "       [1023. ],\n",
       "       [1035.7],\n",
       "       [1015.1],\n",
       "       [1024.9],\n",
       "       [1012.7],\n",
       "       [1007.6],\n",
       "       [1013.1],\n",
       "       [1025.4],\n",
       "       [1030.3],\n",
       "       [1020.8],\n",
       "       [1009.6],\n",
       "       [1012.4],\n",
       "       [1015.8],\n",
       "       [1011.8],\n",
       "       [1020.2],\n",
       "       [1014.1],\n",
       "       [1019.2],\n",
       "       [1016.1]])"
      ]
     },
     "execution_count": 153,
     "metadata": {},
     "output_type": "execute_result"
    }
   ],
   "source": [
    "X_train"
   ]
  },
  {
   "cell_type": "code",
   "execution_count": 154,
   "id": "9a427bdc",
   "metadata": {},
   "outputs": [],
   "source": [
    "from sklearn.linear_model import LinearRegression"
   ]
  },
  {
   "cell_type": "code",
   "execution_count": 155,
   "id": "7c6aa140",
   "metadata": {},
   "outputs": [],
   "source": [
    "regression=LinearRegression()"
   ]
  },
  {
   "cell_type": "code",
   "execution_count": 156,
   "id": "3c504c25",
   "metadata": {},
   "outputs": [
    {
     "data": {
      "text/plain": [
       "LinearRegression()"
      ]
     },
     "execution_count": 156,
     "metadata": {},
     "output_type": "execute_result"
    }
   ],
   "source": [
    "regression.fit(X_train,y_train)"
   ]
  },
  {
   "cell_type": "code",
   "execution_count": 157,
   "id": "38e7e1da",
   "metadata": {},
   "outputs": [
    {
     "name": "stdout",
     "output_type": "stream",
     "text": [
      "[[0.94554322]]\n"
     ]
    }
   ],
   "source": [
    "print(regression.coef_)"
   ]
  },
  {
   "cell_type": "code",
   "execution_count": 158,
   "id": "0ea7bf92",
   "metadata": {},
   "outputs": [
    {
     "name": "stdout",
     "output_type": "stream",
     "text": [
      "[52.63195281]\n"
     ]
    }
   ],
   "source": [
    "print(regression.intercept_)"
   ]
  },
  {
   "cell_type": "code",
   "execution_count": 159,
   "id": "640cb8d5",
   "metadata": {},
   "outputs": [],
   "source": [
    "reg_pred=regression.predict(X_test)"
   ]
  },
  {
   "cell_type": "code",
   "execution_count": 160,
   "id": "9a8d4b99",
   "metadata": {},
   "outputs": [
    {
     "data": {
      "text/plain": [
       "<matplotlib.collections.PathCollection at 0x24191ed6c40>"
      ]
     },
     "execution_count": 160,
     "metadata": {},
     "output_type": "execute_result"
    },
    {
     "data": {
      "image/png": "[encoded data removed]",
      "text/plain": [
       "<Figure size 640x480 with 1 Axes>"
      ]
     },
     "metadata": {},
     "output_type": "display_data"
    }
   ],
   "source": [
    "plt.scatter(y_test,reg_pred)"
   ]
  },
  {
   "cell_type": "code",
   "execution_count": 161,
   "id": "6300e080",
   "metadata": {},
   "outputs": [],
   "source": [
    "residuals=y_test-reg_pred"
   ]
  },
  {
   "cell_type": "code",
   "execution_count": 162,
   "id": "11112e3f",
   "metadata": {},
   "outputs": [
    {
     "data": {
      "text/plain": [
       "array([[-0.75731958],\n",
       "       [ 1.22236085],\n",
       "       [-2.30039729],\n",
       "       [-0.60237509],\n",
       "       [-0.66029975],\n",
       "       [ 0.21396195],\n",
       "       [-0.11229101],\n",
       "       [ 2.26939416],\n",
       "       [ 0.42634339],\n",
       "       [-1.47365661],\n",
       "       [-1.68950593],\n",
       "       [ 1.16197068],\n",
       "       [ 1.58822364],\n",
       "       [-2.11177636],\n",
       "       [-0.5518739 ],\n",
       "       [-0.54691594],\n",
       "       [-1.80237509],\n",
       "       [ 3.5817756 ],\n",
       "       [-0.66078746],\n",
       "       [ 0.36543856],\n",
       "       [-0.26276526],\n",
       "       [ 1.75752737],\n",
       "       [-2.36130211],\n",
       "       [ 4.23425458],\n",
       "       [-0.24147026],\n",
       "       [-0.24642822],\n",
       "       [ 1.09269389],\n",
       "       [-0.56325297],\n",
       "       [-0.17563441],\n",
       "       [-0.18603805],\n",
       "       [-0.30237509],\n",
       "       [-0.6028628 ],\n",
       "       [ 0.41742983],\n",
       "       [-1.16276526],\n",
       "       [-1.69543932],\n",
       "       [ 0.22780653],\n",
       "       [ 2.23970025],\n",
       "       [ 3.48722127],\n",
       "       [-1.93702695],\n",
       "       [ 1.79662255],\n",
       "       [-4.23851703],\n",
       "       [-1.07018873],\n",
       "       [ 1.74167805],\n",
       "       [-2.3305789 ],\n",
       "       [-0.91524424],\n",
       "       [ 2.56248533],\n",
       "       [-1.49495161],\n",
       "       [-0.23307136],\n",
       "       [ 1.02089771],\n",
       "       [ 0.87483983],\n",
       "       [ 1.07733229],\n",
       "       [-0.5068184 ],\n",
       "       [ 0.4307867 ],\n",
       "       [-2.79099602],\n",
       "       [-2.69148373],\n",
       "       [ 0.36890644],\n",
       "       [-0.88406025],\n",
       "       [ 3.62433865],\n",
       "       [-0.61673432],\n",
       "       [ 0.93970025],\n",
       "       [-1.14296034],\n",
       "       [-1.83158127],\n",
       "       [ 1.07782   ],\n",
       "       [ 1.98326568],\n",
       "       [ 1.24912847],\n",
       "       [-0.15734652],\n",
       "       [-0.88454797],\n",
       "       [ 0.07386441],\n",
       "       [-0.91968755],\n",
       "       [ 0.94316814],\n",
       "       [-1.16574542],\n",
       "       [ 0.25357178],\n",
       "       [ 3.25457414],\n",
       "       [-0.86720857]])"
      ]
     },
     "execution_count": 162,
     "metadata": {},
     "output_type": "execute_result"
    }
   ],
   "source": [
    "residuals"
   ]
  },
  {
   "cell_type": "code",
   "execution_count": 163,
   "id": "55b3f625",
   "metadata": {},
   "outputs": [
    {
     "data": {
      "text/plain": [
       "<seaborn.axisgrid.FacetGrid at 0x24191ed6fd0>"
      ]
     },
     "execution_count": 163,
     "metadata": {},
     "output_type": "execute_result"
    },
    {
     "data": {
      "image/png": "[encoded data removed]",
      "text/plain": [
       "<Figure size 558.875x500 with 1 Axes>"
      ]
     },
     "metadata": {},
     "output_type": "display_data"
    }
   ],
   "source": [
    "\n",
    "sns.displot(residuals,kind=\"kde\")"
   ]
  },
  {
   "cell_type": "code",
   "execution_count": 164,
   "id": "300f02d1",
   "metadata": {},
   "outputs": [
    {
     "name": "stdout",
     "output_type": "stream",
     "text": [
      "1.287942431096166\n",
      "2.6924757316140298\n",
      "1.640876513212993\n"
     ]
    }
   ],
   "source": [
    "from sklearn.metrics import mean_squared_error\n",
    "from sklearn.metrics import mean_absolute_error\n",
    "\n",
    "print(mean_absolute_error(y_test,reg_pred))\n",
    "print(mean_squared_error(y_test,reg_pred))\n",
    "print(np.sqrt(mean_squared_error(y_test,reg_pred)))"
   ]
  },
  {
   "cell_type": "code",
   "execution_count": 165,
   "id": "91d707b6",
   "metadata": {},
   "outputs": [
    {
     "name": "stdout",
     "output_type": "stream",
     "text": [
      "0.9341116841746888\n"
     ]
    }
   ],
   "source": [
    "from sklearn.metrics import r2_score\n",
    "score=r2_score(y_test,reg_pred)\n",
    "print(score)"
   ]
  },
  {
   "cell_type": "code",
   "execution_count": 166,
   "id": "5f2dd14e",
   "metadata": {},
   "outputs": [
    {
     "data": {
      "text/plain": [
       "0.9331965686771151"
      ]
     },
     "execution_count": 166,
     "metadata": {},
     "output_type": "execute_result"
    }
   ],
   "source": [
    "\n",
    "1 - (1-score)*(len(y_test)-1)/(len(y_test)-X_test.shape[1]-1)"
   ]
  },
  {
   "cell_type": "code",
   "execution_count": 167,
   "id": "d2e1f9e4",
   "metadata": {},
   "outputs": [],
   "source": [
    "XT=data['Temp9am']"
   ]
  },
  {
   "cell_type": "code",
   "execution_count": 168,
   "id": "fd2c1b21",
   "metadata": {},
   "outputs": [
    {
     "data": {
      "text/plain": [
       "0      14.4\n",
       "1      17.5\n",
       "2      15.4\n",
       "3      13.5\n",
       "4      11.1\n",
       "       ... \n",
       "361    20.4\n",
       "362    17.2\n",
       "363    14.5\n",
       "364    15.8\n",
       "365    23.8\n",
       "Name: Temp9am, Length: 366, dtype: float64"
      ]
     },
     "execution_count": 168,
     "metadata": {},
     "output_type": "execute_result"
    }
   ],
   "source": [
    "XT"
   ]
  },
  {
   "cell_type": "code",
   "execution_count": 169,
   "id": "f03e5646",
   "metadata": {},
   "outputs": [],
   "source": [
    "YT=data['Temp3pm']"
   ]
  },
  {
   "cell_type": "code",
   "execution_count": 170,
   "id": "03f56681",
   "metadata": {},
   "outputs": [
    {
     "data": {
      "text/plain": [
       "0      23.6\n",
       "1      25.7\n",
       "2      20.2\n",
       "3      14.1\n",
       "4      15.4\n",
       "       ... \n",
       "361    30.0\n",
       "362    28.2\n",
       "363    18.3\n",
       "364    25.9\n",
       "365    28.6\n",
       "Name: Temp3pm, Length: 366, dtype: float64"
      ]
     },
     "execution_count": 170,
     "metadata": {},
     "output_type": "execute_result"
    }
   ],
   "source": [
    "YT"
   ]
  },
  {
   "cell_type": "code",
   "execution_count": 171,
   "id": "a5af863b",
   "metadata": {},
   "outputs": [],
   "source": [
    "from sklearn.model_selection import train_test_split\n",
    "X_train,X_test,y_train,y_test=train_test_split(XT,YT,test_size=0.2,random_state=42)\n",
    "X_test=X_test.values.reshape(-1,1)\n",
    "X_train=X_train.values.reshape(-1,1)\n",
    "y_test=y_test.values.reshape(-1,1)\n",
    "y_train=y_train.values.reshape(-1,1)"
   ]
  },
  {
   "cell_type": "code",
   "execution_count": 172,
   "id": "33eee0e3",
   "metadata": {},
   "outputs": [
    {
     "data": {
      "text/plain": [
       "array([[14.6],\n",
       "       [16.6],\n",
       "       [31.7],\n",
       "       [26.3],\n",
       "       [26.3],\n",
       "       [29.8],\n",
       "       [31.9],\n",
       "       [11.2],\n",
       "       [15.5],\n",
       "       [27.4],\n",
       "       [24.3],\n",
       "       [21.3],\n",
       "       [16.5],\n",
       "       [10.7],\n",
       "       [14.6],\n",
       "       [26.1],\n",
       "       [17.8],\n",
       "       [32.2],\n",
       "       [17.6],\n",
       "       [10.7],\n",
       "       [30.7],\n",
       "       [11.6],\n",
       "       [27.6],\n",
       "       [28.6],\n",
       "       [17.2],\n",
       "       [27.3],\n",
       "       [ 7.3],\n",
       "       [13.7],\n",
       "       [16.3],\n",
       "       [13.2],\n",
       "       [24.5],\n",
       "       [19.5],\n",
       "       [14.9],\n",
       "       [30. ],\n",
       "       [16.3],\n",
       "       [18.1],\n",
       "       [10.9],\n",
       "       [14.8],\n",
       "       [20.8],\n",
       "       [32. ],\n",
       "       [17.4],\n",
       "       [18.6],\n",
       "       [11.3],\n",
       "       [31.2],\n",
       "       [ 5.7],\n",
       "       [16.8],\n",
       "       [ 8.1],\n",
       "       [26.8],\n",
       "       [25.2],\n",
       "       [22.6],\n",
       "       [ 8.6],\n",
       "       [13.9],\n",
       "       [22.4],\n",
       "       [14.4],\n",
       "       [22.5],\n",
       "       [19.8],\n",
       "       [17.7],\n",
       "       [34.3],\n",
       "       [28.6],\n",
       "       [16.6],\n",
       "       [17.3],\n",
       "       [25.1],\n",
       "       [ 9.9],\n",
       "       [24. ],\n",
       "       [20.4],\n",
       "       [22.6],\n",
       "       [18.6],\n",
       "       [13.2],\n",
       "       [17.7],\n",
       "       [12.4],\n",
       "       [11.1],\n",
       "       [12.6],\n",
       "       [18.8],\n",
       "       [13.3],\n",
       "       [22.9],\n",
       "       [27.9],\n",
       "       [11.1],\n",
       "       [21.5],\n",
       "       [24.2],\n",
       "       [ 7.2],\n",
       "       [26.5],\n",
       "       [15.8],\n",
       "       [28. ],\n",
       "       [22.8],\n",
       "       [26.3],\n",
       "       [21.1],\n",
       "       [22.1],\n",
       "       [31.3],\n",
       "       [23.7],\n",
       "       [ 9.5],\n",
       "       [11.2],\n",
       "       [20.6],\n",
       "       [26.2],\n",
       "       [17.4],\n",
       "       [15.3],\n",
       "       [28.3],\n",
       "       [18.4],\n",
       "       [15.4],\n",
       "       [10.8],\n",
       "       [17.6],\n",
       "       [ 9.1],\n",
       "       [20.2],\n",
       "       [21. ],\n",
       "       [16.2],\n",
       "       [12.1],\n",
       "       [27. ],\n",
       "       [28.6],\n",
       "       [26. ],\n",
       "       [12.7],\n",
       "       [18.6],\n",
       "       [24. ],\n",
       "       [ 8.8],\n",
       "       [11.5],\n",
       "       [13.8],\n",
       "       [27. ],\n",
       "       [28.4],\n",
       "       [23.7],\n",
       "       [14.9],\n",
       "       [24.7],\n",
       "       [19.1],\n",
       "       [14.5],\n",
       "       [ 7.4],\n",
       "       [13.7],\n",
       "       [15.2],\n",
       "       [16.2],\n",
       "       [20.2],\n",
       "       [22.9],\n",
       "       [12.3],\n",
       "       [ 8.6],\n",
       "       [12. ],\n",
       "       [16.8],\n",
       "       [11.3],\n",
       "       [17.3],\n",
       "       [12.2],\n",
       "       [27.7],\n",
       "       [21.6],\n",
       "       [11.1],\n",
       "       [23.2],\n",
       "       [22.7],\n",
       "       [15.4],\n",
       "       [24.7],\n",
       "       [13.5],\n",
       "       [13.7],\n",
       "       [31.7],\n",
       "       [16.2],\n",
       "       [10.8],\n",
       "       [29.1],\n",
       "       [26.7],\n",
       "       [26.8],\n",
       "       [11.5],\n",
       "       [24.6],\n",
       "       [18.5],\n",
       "       [32.2],\n",
       "       [17.8],\n",
       "       [27.1],\n",
       "       [24.5],\n",
       "       [19.7],\n",
       "       [15.2],\n",
       "       [17.9],\n",
       "       [14.5],\n",
       "       [18.1],\n",
       "       [16. ],\n",
       "       [14.5],\n",
       "       [32.7],\n",
       "       [18.2],\n",
       "       [19.6],\n",
       "       [ 8.6],\n",
       "       [22.1],\n",
       "       [10.8],\n",
       "       [16.6],\n",
       "       [14.5],\n",
       "       [25.5],\n",
       "       [19.4],\n",
       "       [32.3],\n",
       "       [ 8.3],\n",
       "       [17.2],\n",
       "       [30.5],\n",
       "       [21.2],\n",
       "       [19.1],\n",
       "       [13.9],\n",
       "       [10.2],\n",
       "       [12.6],\n",
       "       [15.4],\n",
       "       [15.9],\n",
       "       [14.3],\n",
       "       [18.7],\n",
       "       [11. ],\n",
       "       [16.6],\n",
       "       [13.9],\n",
       "       [15.6],\n",
       "       [20.3],\n",
       "       [13.6],\n",
       "       [31.8],\n",
       "       [19.8],\n",
       "       [19.9],\n",
       "       [12.3],\n",
       "       [16.7],\n",
       "       [18.3],\n",
       "       [26.7],\n",
       "       [10.4],\n",
       "       [15. ],\n",
       "       [ 8.2],\n",
       "       [22.4],\n",
       "       [15.5],\n",
       "       [29.2],\n",
       "       [33.6],\n",
       "       [34.1],\n",
       "       [24.9],\n",
       "       [18.9],\n",
       "       [23.9],\n",
       "       [30.4],\n",
       "       [20.5],\n",
       "       [16.4],\n",
       "       [19.5],\n",
       "       [14. ],\n",
       "       [13.3],\n",
       "       [13.6],\n",
       "       [21.5],\n",
       "       [11.7],\n",
       "       [17.9],\n",
       "       [18.2],\n",
       "       [10.7],\n",
       "       [16. ],\n",
       "       [ 8. ],\n",
       "       [14.3],\n",
       "       [16.3],\n",
       "       [ 7.8],\n",
       "       [16.2],\n",
       "       [22.2],\n",
       "       [25. ],\n",
       "       [14.8],\n",
       "       [20.7],\n",
       "       [11. ],\n",
       "       [22. ],\n",
       "       [22.5],\n",
       "       [25.7],\n",
       "       [20.4],\n",
       "       [21.9],\n",
       "       [13.9],\n",
       "       [20.5],\n",
       "       [11.2],\n",
       "       [26.3],\n",
       "       [18.8],\n",
       "       [11. ],\n",
       "       [14.6],\n",
       "       [30.7],\n",
       "       [16.3],\n",
       "       [32.1],\n",
       "       [12.8],\n",
       "       [20.4],\n",
       "       [24.8],\n",
       "       [32.7],\n",
       "       [14.9],\n",
       "       [21.9],\n",
       "       [18.5],\n",
       "       [11.1],\n",
       "       [21. ],\n",
       "       [28.2],\n",
       "       [18.1],\n",
       "       [16.9],\n",
       "       [18.3],\n",
       "       [15.4],\n",
       "       [19.1],\n",
       "       [30.3],\n",
       "       [20. ],\n",
       "       [12.3],\n",
       "       [ 6.9],\n",
       "       [18.3],\n",
       "       [13.4],\n",
       "       [18.6],\n",
       "       [11.6],\n",
       "       [20.9],\n",
       "       [12.4],\n",
       "       [18.8],\n",
       "       [13.3],\n",
       "       [10.2],\n",
       "       [18.2],\n",
       "       [30.1],\n",
       "       [16.5],\n",
       "       [18.7],\n",
       "       [30.7],\n",
       "       [20. ],\n",
       "       [15.5],\n",
       "       [20. ],\n",
       "       [28.6],\n",
       "       [32.8],\n",
       "       [16.5],\n",
       "       [34.5],\n",
       "       [24.3],\n",
       "       [ 9.6],\n",
       "       [19.4],\n",
       "       [24.2]])"
      ]
     },
     "execution_count": 172,
     "metadata": {},
     "output_type": "execute_result"
    }
   ],
   "source": [
    "y_train"
   ]
  },
  {
   "cell_type": "code",
   "execution_count": 173,
   "id": "4f91779e",
   "metadata": {},
   "outputs": [
    {
     "data": {
      "text/plain": [
       "array([[ 6.9],\n",
       "       [ 8. ],\n",
       "       [18. ],\n",
       "       [17. ],\n",
       "       [16.4],\n",
       "       [20.2],\n",
       "       [18.9],\n",
       "       [ 6.5],\n",
       "       [12.1],\n",
       "       [16.5],\n",
       "       [15.8],\n",
       "       [18.3],\n",
       "       [10.7],\n",
       "       [ 2.8],\n",
       "       [ 7.3],\n",
       "       [16.9],\n",
       "       [ 7. ],\n",
       "       [21.9],\n",
       "       [ 5.2],\n",
       "       [ 6. ],\n",
       "       [17.5],\n",
       "       [10.3],\n",
       "       [17.1],\n",
       "       [20.1],\n",
       "       [ 9.2],\n",
       "       [16.8],\n",
       "       [11.3],\n",
       "       [ 7.4],\n",
       "       [ 9.1],\n",
       "       [ 8.6],\n",
       "       [19.7],\n",
       "       [14.9],\n",
       "       [ 9.4],\n",
       "       [20.4],\n",
       "       [ 6.2],\n",
       "       [11. ],\n",
       "       [ 1.2],\n",
       "       [ 8.4],\n",
       "       [12.9],\n",
       "       [22.8],\n",
       "       [ 8.4],\n",
       "       [18. ],\n",
       "       [ 9.7],\n",
       "       [20.2],\n",
       "       [ 3.8],\n",
       "       [16.3],\n",
       "       [ 5.6],\n",
       "       [17.6],\n",
       "       [16.7],\n",
       "       [21.5],\n",
       "       [ 7. ],\n",
       "       [ 5.3],\n",
       "       [16.4],\n",
       "       [ 7.9],\n",
       "       [ 9.5],\n",
       "       [10.6],\n",
       "       [12.5],\n",
       "       [23.4],\n",
       "       [17.4],\n",
       "       [16.4],\n",
       "       [12.4],\n",
       "       [17.5],\n",
       "       [ 0.8],\n",
       "       [14.6],\n",
       "       [12. ],\n",
       "       [15.8],\n",
       "       [17.4],\n",
       "       [ 6.3],\n",
       "       [ 8.9],\n",
       "       [10.5],\n",
       "       [ 8.8],\n",
       "       [ 4.7],\n",
       "       [12.6],\n",
       "       [ 7.9],\n",
       "       [16.5],\n",
       "       [19.3],\n",
       "       [ 3. ],\n",
       "       [18.4],\n",
       "       [15.5],\n",
       "       [ 5.5],\n",
       "       [18.7],\n",
       "       [ 4.8],\n",
       "       [18.1],\n",
       "       [17.8],\n",
       "       [18. ],\n",
       "       [17.1],\n",
       "       [12.2],\n",
       "       [20.8],\n",
       "       [11.5],\n",
       "       [ 6.2],\n",
       "       [ 1.4],\n",
       "       [13.6],\n",
       "       [15.7],\n",
       "       [15.1],\n",
       "       [ 7.2],\n",
       "       [18.3],\n",
       "       [11.6],\n",
       "       [ 6.2],\n",
       "       [ 8.7],\n",
       "       [ 9.2],\n",
       "       [ 2.6],\n",
       "       [ 7.9],\n",
       "       [15.9],\n",
       "       [ 9.6],\n",
       "       [ 2.7],\n",
       "       [17.8],\n",
       "       [20.6],\n",
       "       [16.8],\n",
       "       [ 6.7],\n",
       "       [ 7.9],\n",
       "       [17.5],\n",
       "       [ 7.1],\n",
       "       [ 7. ],\n",
       "       [ 9. ],\n",
       "       [17.4],\n",
       "       [22.5],\n",
       "       [12.7],\n",
       "       [ 6.3],\n",
       "       [15.9],\n",
       "       [10.7],\n",
       "       [ 4.9],\n",
       "       [ 5.5],\n",
       "       [ 9.1],\n",
       "       [10. ],\n",
       "       [12.8],\n",
       "       [15.4],\n",
       "       [15.1],\n",
       "       [10.6],\n",
       "       [ 6.3],\n",
       "       [ 9.2],\n",
       "       [10.6],\n",
       "       [ 7.6],\n",
       "       [ 5.5],\n",
       "       [ 7.1],\n",
       "       [17.5],\n",
       "       [17. ],\n",
       "       [ 6.7],\n",
       "       [17.3],\n",
       "       [16.2],\n",
       "       [ 6.2],\n",
       "       [15.3],\n",
       "       [ 8.7],\n",
       "       [12.9],\n",
       "       [16.1],\n",
       "       [ 7.4],\n",
       "       [ 3.7],\n",
       "       [17.4],\n",
       "       [19. ],\n",
       "       [18.6],\n",
       "       [ 2.7],\n",
       "       [17.6],\n",
       "       [ 7.7],\n",
       "       [21.3],\n",
       "       [13.8],\n",
       "       [17. ],\n",
       "       [18.6],\n",
       "       [18.9],\n",
       "       [13.6],\n",
       "       [14. ],\n",
       "       [ 2.1],\n",
       "       [11.2],\n",
       "       [ 9.5],\n",
       "       [12.1],\n",
       "       [20.2],\n",
       "       [16.7],\n",
       "       [20.6],\n",
       "       [ 9.6],\n",
       "       [18.5],\n",
       "       [ 4.5],\n",
       "       [14.4],\n",
       "       [ 5.3],\n",
       "       [13.8],\n",
       "       [15.7],\n",
       "       [19.8],\n",
       "       [ 4.7],\n",
       "       [ 6.2],\n",
       "       [18.2],\n",
       "       [16.5],\n",
       "       [ 9.4],\n",
       "       [13.3],\n",
       "       [ 5.9],\n",
       "       [13.5],\n",
       "       [11.1],\n",
       "       [ 6.7],\n",
       "       [ 8. ],\n",
       "       [13.8],\n",
       "       [ 6.5],\n",
       "       [ 7.2],\n",
       "       [ 4.6],\n",
       "       [13.5],\n",
       "       [17.9],\n",
       "       [12.1],\n",
       "       [21.9],\n",
       "       [15.3],\n",
       "       [20.5],\n",
       "       [ 1.4],\n",
       "       [ 3.5],\n",
       "       [14.5],\n",
       "       [18.8],\n",
       "       [ 6.5],\n",
       "       [ 4. ],\n",
       "       [ 7.7],\n",
       "       [12.7],\n",
       "       [ 6.4],\n",
       "       [16.8],\n",
       "       [23. ],\n",
       "       [21.4],\n",
       "       [14. ],\n",
       "       [14.1],\n",
       "       [20.3],\n",
       "       [18.7],\n",
       "       [ 8.2],\n",
       "       [13.8],\n",
       "       [11.3],\n",
       "       [ 5.2],\n",
       "       [11.5],\n",
       "       [ 8.9],\n",
       "       [11.9],\n",
       "       [ 4.3],\n",
       "       [ 7. ],\n",
       "       [ 4.7],\n",
       "       [ 6.9],\n",
       "       [14.9],\n",
       "       [ 1.8],\n",
       "       [ 8.3],\n",
       "       [ 9.8],\n",
       "       [ 1. ],\n",
       "       [ 3.8],\n",
       "       [14. ],\n",
       "       [15.8],\n",
       "       [10.3],\n",
       "       [ 7.6],\n",
       "       [ 1.3],\n",
       "       [13.7],\n",
       "       [15. ],\n",
       "       [17.5],\n",
       "       [15.3],\n",
       "       [19.4],\n",
       "       [ 6.5],\n",
       "       [18.6],\n",
       "       [ 7.6],\n",
       "       [21.4],\n",
       "       [14.9],\n",
       "       [ 3.4],\n",
       "       [ 6.5],\n",
       "       [19.7],\n",
       "       [ 6. ],\n",
       "       [22.4],\n",
       "       [ 3. ],\n",
       "       [12.3],\n",
       "       [12. ],\n",
       "       [17.9],\n",
       "       [ 9. ],\n",
       "       [11.6],\n",
       "       [15.6],\n",
       "       [ 6.9],\n",
       "       [12.4],\n",
       "       [21. ],\n",
       "       [12.6],\n",
       "       [ 6.7],\n",
       "       [14.5],\n",
       "       [12.5],\n",
       "       [14. ],\n",
       "       [21.5],\n",
       "       [16.1],\n",
       "       [ 5.5],\n",
       "       [ 6. ],\n",
       "       [16.5],\n",
       "       [ 5.5],\n",
       "       [14.3],\n",
       "       [ 7.8],\n",
       "       [ 8.4],\n",
       "       [ 7.9],\n",
       "       [ 8.1],\n",
       "       [ 3.9],\n",
       "       [ 8.3],\n",
       "       [ 8.8],\n",
       "       [17.2],\n",
       "       [13.1],\n",
       "       [13.6],\n",
       "       [19.7],\n",
       "       [15.4],\n",
       "       [ 9.9],\n",
       "       [11.7],\n",
       "       [23.8],\n",
       "       [22.2],\n",
       "       [12.4],\n",
       "       [24.7],\n",
       "       [15. ],\n",
       "       [ 5.6],\n",
       "       [14.5],\n",
       "       [14.6]])"
      ]
     },
     "execution_count": 173,
     "metadata": {},
     "output_type": "execute_result"
    }
   ],
   "source": [
    "X_train"
   ]
  },
  {
   "cell_type": "code",
   "execution_count": 174,
   "id": "e811735f",
   "metadata": {},
   "outputs": [],
   "source": [
    "regression=LinearRegression()"
   ]
  },
  {
   "cell_type": "code",
   "execution_count": 175,
   "id": "0aac144c",
   "metadata": {},
   "outputs": [
    {
     "data": {
      "text/plain": [
       "LinearRegression()"
      ]
     },
     "execution_count": 175,
     "metadata": {},
     "output_type": "execute_result"
    }
   ],
   "source": [
    "regression.fit(X_train,y_train)"
   ]
  },
  {
   "cell_type": "code",
   "execution_count": 176,
   "id": "416c5389",
   "metadata": {},
   "outputs": [
    {
     "name": "stdout",
     "output_type": "stream",
     "text": [
      "[[1.00805153]]\n"
     ]
    }
   ],
   "source": [
    "print(regression.coef_)"
   ]
  },
  {
   "cell_type": "code",
   "execution_count": 177,
   "id": "cd7aad75",
   "metadata": {},
   "outputs": [
    {
     "name": "stdout",
     "output_type": "stream",
     "text": [
      "[6.83705026]\n"
     ]
    }
   ],
   "source": [
    "print(regression.intercept_)"
   ]
  },
  {
   "cell_type": "code",
   "execution_count": 178,
   "id": "7899bb32",
   "metadata": {},
   "outputs": [],
   "source": [
    "reg_pred=regression.predict(X_test)"
   ]
  },
  {
   "cell_type": "code",
   "execution_count": 179,
   "id": "66906bb7",
   "metadata": {},
   "outputs": [
    {
     "data": {
      "text/plain": [
       "<matplotlib.collections.PathCollection at 0x241931afbb0>"
      ]
     },
     "execution_count": 179,
     "metadata": {},
     "output_type": "execute_result"
    },
    {
     "data": {
      "image/png": "[encoded data removed]",
      "text/plain": [
       "<Figure size 640x480 with 1 Axes>"
      ]
     },
     "metadata": {},
     "output_type": "display_data"
    }
   ],
   "source": [
    "plt.scatter(y_test,reg_pred)"
   ]
  },
  {
   "cell_type": "code",
   "execution_count": 180,
   "id": "f17d2079",
   "metadata": {},
   "outputs": [],
   "source": [
    "residuals=y_test-reg_pred"
   ]
  },
  {
   "cell_type": "code",
   "execution_count": 181,
   "id": "6a99bc72",
   "metadata": {},
   "outputs": [
    {
     "data": {
      "text/plain": [
       "<seaborn.axisgrid.FacetGrid at 0x241930ff280>"
      ]
     },
     "execution_count": 181,
     "metadata": {},
     "output_type": "execute_result"
    },
    {
     "data": {
      "image/png": "[encoded data removed]",
      "text/plain": [
       "<Figure size 558.875x500 with 1 Axes>"
      ]
     },
     "metadata": {},
     "output_type": "display_data"
    }
   ],
   "source": [
    "sns.displot(residuals,kind=\"kde\")"
   ]
  },
  {
   "cell_type": "code",
   "execution_count": 182,
   "id": "34ff865a",
   "metadata": {},
   "outputs": [
    {
     "name": "stdout",
     "output_type": "stream",
     "text": [
      "2.911552857157998\n",
      "12.526299037778184\n",
      "3.5392511973266583\n"
     ]
    }
   ],
   "source": [
    "from sklearn.metrics import mean_squared_error\n",
    "from sklearn.metrics import mean_absolute_error\n",
    "\n",
    "print(mean_absolute_error(y_test,reg_pred))\n",
    "print(mean_squared_error(y_test,reg_pred))\n",
    "print(np.sqrt(mean_squared_error(y_test,reg_pred)))"
   ]
  },
  {
   "cell_type": "code",
   "execution_count": 183,
   "id": "df46458c",
   "metadata": {},
   "outputs": [
    {
     "name": "stdout",
     "output_type": "stream",
     "text": [
      "0.69041112102902\n"
     ]
    }
   ],
   "source": [
    "from sklearn.metrics import r2_score\n",
    "score=r2_score(y_test,reg_pred)\n",
    "print(score)"
   ]
  },
  {
   "cell_type": "code",
   "execution_count": 184,
   "id": "3ba5e81a",
   "metadata": {},
   "outputs": [
    {
     "data": {
      "text/plain": [
       "0.6861112754877564"
      ]
     },
     "execution_count": 184,
     "metadata": {},
     "output_type": "execute_result"
    }
   ],
   "source": [
    "1 - (1-score)*(len(y_test)-1)/(len(y_test)-X_test.shape[1]-1)"
   ]
  },
  {
   "cell_type": "code",
   "execution_count": 185,
   "id": "7b5a2ca9",
   "metadata": {},
   "outputs": [],
   "source": [
    "XH=data['Humidity9am']"
   ]
  },
  {
   "cell_type": "code",
   "execution_count": 186,
   "id": "c5708b0f",
   "metadata": {},
   "outputs": [],
   "source": [
    "YH=data['Humidity3pm']"
   ]
  },
  {
   "cell_type": "code",
   "execution_count": 187,
   "id": "b2be7568",
   "metadata": {},
   "outputs": [
    {
     "data": {
      "text/plain": [
       "0      68\n",
       "1      80\n",
       "2      82\n",
       "3      62\n",
       "4      68\n",
       "       ..\n",
       "361    38\n",
       "362    45\n",
       "363    63\n",
       "364    69\n",
       "365    43\n",
       "Name: Humidity9am, Length: 366, dtype: int64"
      ]
     },
     "execution_count": 187,
     "metadata": {},
     "output_type": "execute_result"
    }
   ],
   "source": [
    "XH"
   ]
  },
  {
   "cell_type": "code",
   "execution_count": 188,
   "id": "b626dd51",
   "metadata": {},
   "outputs": [
    {
     "data": {
      "text/plain": [
       "0      29\n",
       "1      36\n",
       "2      69\n",
       "3      56\n",
       "4      49\n",
       "       ..\n",
       "361    15\n",
       "362    22\n",
       "363    47\n",
       "364    39\n",
       "365    13\n",
       "Name: Humidity3pm, Length: 366, dtype: int64"
      ]
     },
     "execution_count": 188,
     "metadata": {},
     "output_type": "execute_result"
    }
   ],
   "source": [
    "YH"
   ]
  },
  {
   "cell_type": "code",
   "execution_count": 189,
   "id": "2d4df254",
   "metadata": {},
   "outputs": [],
   "source": [
    "from sklearn.model_selection import train_test_split\n",
    "X_train,X_test,y_train,y_test=train_test_split(XH,YH,test_size=0.2,random_state=42)\n",
    "X_test=X_test.values.reshape(-1,1)\n",
    "X_train=X_train.values.reshape(-1,1)\n",
    "y_test=y_test.values.reshape(-1,1)\n",
    "y_train=y_train.values.reshape(-1,1)"
   ]
  },
  {
   "cell_type": "code",
   "execution_count": 190,
   "id": "0d6b1a65",
   "metadata": {},
   "outputs": [],
   "source": [
    "regression=LinearRegression()"
   ]
  },
  {
   "cell_type": "code",
   "execution_count": 191,
   "id": "55011aa2",
   "metadata": {},
   "outputs": [
    {
     "data": {
      "text/plain": [
       "LinearRegression()"
      ]
     },
     "execution_count": 191,
     "metadata": {},
     "output_type": "execute_result"
    }
   ],
   "source": [
    "regression.fit(X_train,y_train)"
   ]
  },
  {
   "cell_type": "code",
   "execution_count": 192,
   "id": "408f23ff",
   "metadata": {},
   "outputs": [
    {
     "name": "stdout",
     "output_type": "stream",
     "text": [
      "[[0.72146754]]\n"
     ]
    }
   ],
   "source": [
    "print(regression.coef_)"
   ]
  },
  {
   "cell_type": "code",
   "execution_count": 193,
   "id": "af8ddd0e",
   "metadata": {},
   "outputs": [
    {
     "name": "stdout",
     "output_type": "stream",
     "text": [
      "[-7.79726273]\n"
     ]
    }
   ],
   "source": [
    "print(regression.intercept_)"
   ]
  },
  {
   "cell_type": "code",
   "execution_count": 194,
   "id": "126e2bd2",
   "metadata": {},
   "outputs": [],
   "source": [
    "reg_pred=regression.predict(X_test)"
   ]
  },
  {
   "cell_type": "code",
   "execution_count": 195,
   "id": "5d213154",
   "metadata": {},
   "outputs": [
    {
     "data": {
      "text/plain": [
       "<matplotlib.collections.PathCollection at 0x24193292700>"
      ]
     },
     "execution_count": 195,
     "metadata": {},
     "output_type": "execute_result"
    },
    {
     "data": {
      "image/png": "[encoded data removed]",
      "text/plain": [
       "<Figure size 640x480 with 1 Axes>"
      ]
     },
     "metadata": {},
     "output_type": "display_data"
    }
   ],
   "source": [
    "plt.scatter(y_test,reg_pred)"
   ]
  },
  {
   "cell_type": "code",
   "execution_count": 196,
   "id": "b242e4b5",
   "metadata": {},
   "outputs": [],
   "source": [
    "residuals=y_test-reg_pred"
   ]
  },
  {
   "cell_type": "code",
   "execution_count": 197,
   "id": "a887cad7",
   "metadata": {},
   "outputs": [
    {
     "data": {
      "text/plain": [
       "<seaborn.axisgrid.FacetGrid at 0x24193167250>"
      ]
     },
     "execution_count": 197,
     "metadata": {},
     "output_type": "execute_result"
    },
    {
     "data": {
      "image/png": "[encoded data removed]",
      "text/plain": [
       "<Figure size 558.875x500 with 1 Axes>"
      ]
     },
     "metadata": {},
     "output_type": "display_data"
    }
   ],
   "source": [
    "sns.displot(residuals,kind=\"kde\")"
   ]
  },
  {
   "cell_type": "code",
   "execution_count": 198,
   "id": "a6ca49ec",
   "metadata": {},
   "outputs": [
    {
     "name": "stdout",
     "output_type": "stream",
     "text": [
      "11.190242004399163\n",
      "208.11252108406796\n",
      "14.426105541138536\n"
     ]
    }
   ],
   "source": [
    "from sklearn.metrics import mean_squared_error\n",
    "from sklearn.metrics import mean_absolute_error\n",
    "\n",
    "print(mean_absolute_error(y_test,reg_pred))\n",
    "print(mean_squared_error(y_test,reg_pred))\n",
    "print(np.sqrt(mean_squared_error(y_test,reg_pred)))"
   ]
  },
  {
   "cell_type": "code",
   "execution_count": 199,
   "id": "9a1af760",
   "metadata": {},
   "outputs": [
    {
     "name": "stdout",
     "output_type": "stream",
     "text": [
      "0.19532615187059665\n"
     ]
    }
   ],
   "source": [
    "from sklearn.metrics import r2_score\n",
    "score=r2_score(y_test,reg_pred)\n",
    "print(score)"
   ]
  },
  {
   "cell_type": "code",
   "execution_count": 200,
   "id": "eb1f0904",
   "metadata": {},
   "outputs": [
    {
     "data": {
      "text/plain": [
       "0.18415012620213267"
      ]
     },
     "execution_count": 200,
     "metadata": {},
     "output_type": "execute_result"
    }
   ],
   "source": [
    "1 - (1-score)*(len(y_test)-1)/(len(y_test)-X_test.shape[1]-1)"
   ]
  },
  {
   "cell_type": "code",
   "execution_count": null,
   "id": "4b02d941",
   "metadata": {},
   "outputs": [],
   "source": []
  }
 ],
 "metadata": {
  "kernelspec": {
   "display_name": "Python 3 (ipykernel)",
   "language": "python",
   "name": "python3"
  },
  "language_info": {
   "codemirror_mode": {
    "name": "ipython",
    "version": 3
   },
   "file_extension": ".py",
   "mimetype": "text/x-python",
   "name": "python",
   "nbconvert_exporter": "python",
   "pygments_lexer": "ipython3",
   "version": "3.9.13"
  }
 },
 "nbformat": 4,
 "nbformat_minor": 5
}
